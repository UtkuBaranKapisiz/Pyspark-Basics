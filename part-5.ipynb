{
 "cells": [
  {
   "cell_type": "markdown",
   "id": "ba6b9cec-efcb-4ce5-9ab5-c3cf8adcd60a",
   "metadata": {},
   "source": [
    "* groupBy\n",
    "* agg"
   ]
  },
  {
   "cell_type": "code",
   "execution_count": 3,
   "id": "bf3e6e04-ab09-40eb-900b-449bcf3b058e",
   "metadata": {},
   "outputs": [],
   "source": [
    "import pyspark\n",
    "from pyspark.sql import SparkSession"
   ]
  },
  {
   "cell_type": "code",
   "execution_count": 4,
   "id": "9432a8fd-0f46-4093-b71b-821a074023bc",
   "metadata": {},
   "outputs": [],
   "source": [
    "spark = SparkSession.builder.appName(\"DataFrame\").getOrCreate()"
   ]
  },
  {
   "cell_type": "code",
   "execution_count": 6,
   "id": "3cd51cd5-b7db-4794-9f82-7b32074ceeae",
   "metadata": {},
   "outputs": [],
   "source": [
    "df_pyspark = spark.read.csv(\"test.csv\", header=True, inferSchema=True)"
   ]
  },
  {
   "cell_type": "code",
   "execution_count": 7,
   "id": "f99ae2e5-b89d-464d-9a38-11ccef4a66c8",
   "metadata": {},
   "outputs": [
    {
     "name": "stdout",
     "output_type": "stream",
     "text": [
      "+------+------------+------+\n",
      "|  Name|  Department|Salary|\n",
      "+------+------------+------+\n",
      "|   Ali|Data Science| 30000|\n",
      "|   Ali|         IOT| 25000|\n",
      "| Fatma|    Big Data| 59994|\n",
      "|Mehmet|Data Science| 13231|\n",
      "|  Ayse|Data Science| 93211|\n",
      "| Harun|         IOT| 13231|\n",
      "+------+------------+------+\n",
      "\n"
     ]
    }
   ],
   "source": [
    "df_pyspark.show()"
   ]
  },
  {
   "cell_type": "code",
   "execution_count": 12,
   "id": "4c2c760d-a970-4fa0-9bbb-fd3d2cdc267f",
   "metadata": {},
   "outputs": [
    {
     "name": "stdout",
     "output_type": "stream",
     "text": [
      "+------+-----------+\n",
      "|  Name|sum(Salary)|\n",
      "+------+-----------+\n",
      "|Mehmet|      13231|\n",
      "| Harun|      13231|\n",
      "|  Ayse|      93211|\n",
      "| Fatma|      59994|\n",
      "|   Ali|      55000|\n",
      "+------+-----------+\n",
      "\n"
     ]
    }
   ],
   "source": [
    "# Groupby\n",
    "df_pyspark.groupBy(\"Name\").sum().show() # department is gone because you can't\n",
    "#                                         sum strings"
   ]
  },
  {
   "cell_type": "code",
   "execution_count": 16,
   "id": "da8350de-cd53-4a6e-99a0-4412c5b343e2",
   "metadata": {},
   "outputs": [
    {
     "name": "stdout",
     "output_type": "stream",
     "text": [
      "+------------+------------------+\n",
      "|  Department|       avg(Salary)|\n",
      "+------------+------------------+\n",
      "|         IOT|           19115.5|\n",
      "|    Big Data|           59994.0|\n",
      "|Data Science|45480.666666666664|\n",
      "+------------+------------------+\n",
      "\n"
     ]
    }
   ],
   "source": [
    "# grouby department (to find average salary)\n",
    "df_pyspark.groupBy(\"Department\").mean().show()"
   ]
  },
  {
   "cell_type": "code",
   "execution_count": 20,
   "id": "245f96ee-9e09-4f81-a074-b29693bcfe7a",
   "metadata": {},
   "outputs": [
    {
     "name": "stdout",
     "output_type": "stream",
     "text": [
      "+-----------+\n",
      "|max(Salary)|\n",
      "+-----------+\n",
      "|      93211|\n",
      "+-----------+\n",
      "\n"
     ]
    }
   ],
   "source": [
    "# aggregate (max, min, avg, sum, etc..)\n",
    "df_pyspark.agg({\"Salary\":\"max\"}).show()"
   ]
  },
  {
   "cell_type": "code",
   "execution_count": null,
   "id": "d563e4e5-95a1-4fdf-9f01-2fd13d1a54ea",
   "metadata": {},
   "outputs": [],
   "source": []
  }
 ],
 "metadata": {
  "kernelspec": {
   "display_name": "Python 3 (ipykernel)",
   "language": "python",
   "name": "python3"
  },
  "language_info": {
   "codemirror_mode": {
    "name": "ipython",
    "version": 3
   },
   "file_extension": ".py",
   "mimetype": "text/x-python",
   "name": "python",
   "nbconvert_exporter": "python",
   "pygments_lexer": "ipython3",
   "version": "3.12.1"
  }
 },
 "nbformat": 4,
 "nbformat_minor": 5
}
