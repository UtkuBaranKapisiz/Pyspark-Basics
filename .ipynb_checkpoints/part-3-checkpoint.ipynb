{
 "cells": [
  {
   "cell_type": "markdown",
   "metadata": {},
   "source": [
    "* Fill missing values with;\n",
    "* * Null=>\"Missing\" or 0\n",
    "* * Null=> Mean, median etc."
   ]
  },
  {
   "cell_type": "code",
   "execution_count": 1,
   "metadata": {},
   "outputs": [],
   "source": [
    "import pyspark\n",
    "from pyspark.sql import SparkSession"
   ]
  },
  {
   "cell_type": "code",
   "execution_count": 2,
   "metadata": {},
   "outputs": [],
   "source": [
    "spark = SparkSession.builder.appName(\"Practise\").getOrCreate()"
   ]
  },
  {
   "cell_type": "code",
   "execution_count": 24,
   "metadata": {},
   "outputs": [
    {
     "name": "stdout",
     "output_type": "stream",
     "text": [
      "root\n",
      " |-- Name: string (nullable = true)\n",
      " |-- Age: integer (nullable = true)\n",
      " |-- Experience: integer (nullable = true)\n",
      " |-- Salary: integer (nullable = true)\n",
      "\n"
     ]
    }
   ],
   "source": [
    "df_pyspark = spark.read.csv(\"test.csv\", header=True, inferSchema=True)\n",
    "df_pyspark.printSchema()"
   ]
  },
  {
   "cell_type": "code",
   "execution_count": 4,
   "metadata": {},
   "outputs": [
    {
     "name": "stdout",
     "output_type": "stream",
     "text": [
      "+------+---+----------+------+\n",
      "|  Name|Age|Experience|Salary|\n",
      "+------+---+----------+------+\n",
      "|   Ali| 20|         4| 30000|\n",
      "|  Veli| 25|         8| 25000|\n",
      "| Fatma| 35|        10| 59994|\n",
      "|Mehmet| 31|         4| 13231|\n",
      "|  Ay?e| 21|         9| 93211|\n",
      "+------+---+----------+------+\n",
      "\n"
     ]
    }
   ],
   "source": [
    "# drop null rows\n",
    "df_pyspark.na.drop().show()"
   ]
  },
  {
   "cell_type": "code",
   "execution_count": 5,
   "metadata": {},
   "outputs": [
    {
     "name": "stdout",
     "output_type": "stream",
     "text": [
      "+------+----+----------+------+\n",
      "|  Name| Age|Experience|Salary|\n",
      "+------+----+----------+------+\n",
      "|   Ali|  20|         4| 30000|\n",
      "|  Veli|  25|         8| 25000|\n",
      "| Fatma|  35|        10| 59994|\n",
      "|Mehmet|  31|         4| 13231|\n",
      "|  Ay?e|  21|         9| 93211|\n",
      "| Harun|NULL|      NULL| 12312|\n",
      "|  NULL|  52|         7|123123|\n",
      "|  NULL|  42|      NULL|  NULL|\n",
      "+------+----+----------+------+\n",
      "\n"
     ]
    }
   ],
   "source": [
    "# how=any is default, option: all\n",
    "df_pyspark.na.drop(how=\"all\").show()"
   ]
  },
  {
   "cell_type": "code",
   "execution_count": 6,
   "metadata": {},
   "outputs": [
    {
     "name": "stdout",
     "output_type": "stream",
     "text": [
      "+------+----+----------+------+\n",
      "|  Name| Age|Experience|Salary|\n",
      "+------+----+----------+------+\n",
      "|   Ali|  20|         4| 30000|\n",
      "|  Veli|  25|         8| 25000|\n",
      "| Fatma|  35|        10| 59994|\n",
      "|Mehmet|  31|         4| 13231|\n",
      "|  Ay?e|  21|         9| 93211|\n",
      "| Harun|NULL|      NULL| 12312|\n",
      "|  NULL|  52|         7|123123|\n",
      "+------+----+----------+------+\n",
      "\n"
     ]
    }
   ],
   "source": [
    "# threshold (at least two null values should be present)\n",
    "df_pyspark.na.drop(how=\"any\",thresh=2).show()"
   ]
  },
  {
   "cell_type": "code",
   "execution_count": 7,
   "metadata": {},
   "outputs": [
    {
     "name": "stdout",
     "output_type": "stream",
     "text": [
      "+------+---+----------+------+\n",
      "|  Name|Age|Experience|Salary|\n",
      "+------+---+----------+------+\n",
      "|   Ali| 20|         4| 30000|\n",
      "|  Veli| 25|         8| 25000|\n",
      "| Fatma| 35|        10| 59994|\n",
      "|Mehmet| 31|         4| 13231|\n",
      "|  Ay?e| 21|         9| 93211|\n",
      "|  NULL| 52|         7|123123|\n",
      "+------+---+----------+------+\n",
      "\n"
     ]
    }
   ],
   "source": [
    "# subset (remove if experience null)\n",
    "df_pyspark.na.drop(how=\"any\", subset=[\"Experience\"]).show()"
   ]
  },
  {
   "cell_type": "code",
   "execution_count": 23,
   "metadata": {},
   "outputs": [
    {
     "name": "stdout",
     "output_type": "stream",
     "text": [
      "+-------+---+----------+------+\n",
      "|   Name|Age|Experience|Salary|\n",
      "+-------+---+----------+------+\n",
      "|    Ali| 20|         4| 30000|\n",
      "|   Veli| 25|         8| 25000|\n",
      "|  Fatma| 35|        10| 59994|\n",
      "| Mehmet| 31|         4| 13231|\n",
      "|   Ay?e| 21|         9| 93211|\n",
      "|  Harun|  0|         0| 12312|\n",
      "|Missing| 52|         7|123123|\n",
      "|Missing| 42|         0|     0|\n",
      "+-------+---+----------+------+\n",
      "\n",
      "+-------+---+----------+------+\n",
      "|   Name|Age|Experience|Salary|\n",
      "+-------+---+----------+------+\n",
      "|    Ali| 20|         4| 30000|\n",
      "|   Veli| 25|         8| 25000|\n",
      "|  Fatma| 35|        10| 59994|\n",
      "| Mehmet| 31|         4| 13231|\n",
      "|   Ay?e| 21|         9| 93211|\n",
      "|  Harun|  0|         0| 12312|\n",
      "|Missing| 52|         7|123123|\n",
      "|Missing| 42|         0|     0|\n",
      "+-------+---+----------+------+\n",
      "\n"
     ]
    }
   ],
   "source": [
    "# Filling the missing values\n",
    "df_pyspark.na.fill('Missing').show() # String fills only fills string\n",
    "df_pyspark.na.fill(0).show() # Filling with int only fills int"
   ]
  },
  {
   "cell_type": "code",
   "execution_count": 25,
   "metadata": {},
   "outputs": [
    {
     "name": "stdout",
     "output_type": "stream",
     "text": [
      "+------------+----+----------+------+\n",
      "|        Name| Age|Experience|Salary|\n",
      "+------------+----+----------+------+\n",
      "|         Ali|  20|         4| 30000|\n",
      "|        Veli|  25|         8| 25000|\n",
      "|       Fatma|  35|        10| 59994|\n",
      "|      Mehmet|  31|         4| 13231|\n",
      "|        Ay?e|  21|         9| 93211|\n",
      "|       Harun|NULL|      NULL| 12312|\n",
      "|Missing Name|  52|         7|123123|\n",
      "|Missing Name|  42|      NULL|  NULL|\n",
      "+------------+----+----------+------+\n",
      "\n"
     ]
    }
   ],
   "source": [
    "# Filling the missing values in specific column\n",
    "df_pyspark.na.fill(\"Missing Name\", \"Name\").show()"
   ]
  },
  {
   "cell_type": "code",
   "execution_count": 26,
   "metadata": {},
   "outputs": [],
   "source": [
    "# impurter function (fill with mean) (also: median, maybe more)\n",
    "from pyspark.ml.feature import Imputer\n",
    "\n",
    "imputer = Imputer(\n",
    "    inputCols=[\"Age\", \"Experience\", \"Salary\"],\n",
    "    outputCols=[\"{}_imputed\".format(c) for c in [\"Age\",\"Experience\",\"Salary\"]]\n",
    "    ).setStrategy(\"mean\")\n"
   ]
  },
  {
   "cell_type": "code",
   "execution_count": 27,
   "metadata": {},
   "outputs": [
    {
     "name": "stdout",
     "output_type": "stream",
     "text": [
      "+------+----+----------+------+-----------+------------------+--------------+\n",
      "|  Name| Age|Experience|Salary|Age_imputed|Experience_imputed|Salary_imputed|\n",
      "+------+----+----------+------+-----------+------------------+--------------+\n",
      "|   Ali|  20|         4| 30000|         20|                 4|         30000|\n",
      "|  Veli|  25|         8| 25000|         25|                 8|         25000|\n",
      "| Fatma|  35|        10| 59994|         35|                10|         59994|\n",
      "|Mehmet|  31|         4| 13231|         31|                 4|         13231|\n",
      "|  Ay?e|  21|         9| 93211|         21|                 9|         93211|\n",
      "| Harun|NULL|      NULL| 12312|         32|                 7|         12312|\n",
      "|  NULL|  52|         7|123123|         52|                 7|        123123|\n",
      "|  NULL|  42|      NULL|  NULL|         42|                 7|         50981|\n",
      "+------+----+----------+------+-----------+------------------+--------------+\n",
      "\n"
     ]
    }
   ],
   "source": [
    "imputer.fit(df_pyspark).transform(df_pyspark).show()"
   ]
  },
  {
   "cell_type": "code",
   "execution_count": null,
   "metadata": {},
   "outputs": [],
   "source": []
  }
 ],
 "metadata": {
  "kernelspec": {
   "display_name": "Python 3",
   "language": "python",
   "name": "python3"
  },
  "language_info": {
   "codemirror_mode": {
    "name": "ipython",
    "version": 3
   },
   "file_extension": ".py",
   "mimetype": "text/x-python",
   "name": "python",
   "nbconvert_exporter": "python",
   "pygments_lexer": "ipython3",
   "version": "3.12.1"
  }
 },
 "nbformat": 4,
 "nbformat_minor": 2
}
