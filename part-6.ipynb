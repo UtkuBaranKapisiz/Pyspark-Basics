{
 "cells": [
  {
   "cell_type": "markdown",
   "id": "400f5c9d-4956-41c6-b87a-7f963bdb5698",
   "metadata": {},
   "source": [
    "* There are multiple ways to use apache spark, one is DataFrame API\n",
    "### Exapmples Of Pyspark ML"
   ]
  },
  {
   "cell_type": "code",
   "execution_count": 2,
   "id": "041951bf-0732-4d3e-9bcc-c385e36f9a44",
   "metadata": {},
   "outputs": [],
   "source": [
    "from pyspark.sql import SparkSession\n",
    "spark = SparkSession.builder.appName(\"DF\").getOrCreate()"
   ]
  },
  {
   "cell_type": "code",
   "execution_count": 3,
   "id": "fe930e7b-7a9a-41bf-ba75-3e886dcd7a71",
   "metadata": {},
   "outputs": [],
   "source": [
    "training = spark.read.csv(\"test.csv\", header=True, inferSchema=True)"
   ]
  },
  {
   "cell_type": "code",
   "execution_count": 5,
   "id": "7f05e147-e3ac-4ef6-92b5-9d6fe69fd220",
   "metadata": {},
   "outputs": [
    {
     "name": "stdout",
     "output_type": "stream",
     "text": [
      "root\n",
      " |-- Name: string (nullable = true)\n",
      " |-- Age: integer (nullable = true)\n",
      " |-- Experience: integer (nullable = true)\n",
      " |-- Salary: integer (nullable = true)\n",
      "\n"
     ]
    }
   ],
   "source": [
    "training.printSchema()"
   ]
  },
  {
   "cell_type": "code",
   "execution_count": 19,
   "id": "854b1898-e2f7-409f-95b4-c7bb1c84aa14",
   "metadata": {},
   "outputs": [],
   "source": [
    "# [Age, Experience] ---> new feature ---> independent feature\n",
    "from pyspark.ml.feature import VectorAssembler\n",
    "featureassembler=VectorAssembler(inputCols=[\"Age\", \"Experience\"], outputCol=\"Independent Features\")"
   ]
  },
  {
   "cell_type": "code",
   "execution_count": 20,
   "id": "1e6fe482-fb3d-4234-9477-8899942f76d5",
   "metadata": {},
   "outputs": [
    {
     "name": "stdout",
     "output_type": "stream",
     "text": [
      "+------+---+----------+------+--------------------+\n",
      "|  Name|Age|Experience|Salary|Independent Features|\n",
      "+------+---+----------+------+--------------------+\n",
      "|   Ali| 31|         4| 30000|          [31.0,4.0]|\n",
      "|   Ali| 24|         6| 25000|          [24.0,6.0]|\n",
      "| Fatma| 55|         7| 59994|          [55.0,7.0]|\n",
      "|Mehmet| 23|         2| 13231|          [23.0,2.0]|\n",
      "|  Ayse| 54|         6| 93211|          [54.0,6.0]|\n",
      "| Harun| 32|         7| 13231|          [32.0,7.0]|\n",
      "+------+---+----------+------+--------------------+\n",
      "\n"
     ]
    }
   ],
   "source": [
    "output = featureassembler.transform(training)\n",
    "output.show()"
   ]
  },
  {
   "cell_type": "code",
   "execution_count": 21,
   "id": "09fe0a35-eaae-4340-87c1-c1fd46ebd02b",
   "metadata": {},
   "outputs": [
    {
     "name": "stdout",
     "output_type": "stream",
     "text": [
      "+--------------------+------+\n",
      "|Independent Features|Salary|\n",
      "+--------------------+------+\n",
      "|          [31.0,4.0]| 30000|\n",
      "|          [24.0,6.0]| 25000|\n",
      "|          [55.0,7.0]| 59994|\n",
      "|          [23.0,2.0]| 13231|\n",
      "|          [54.0,6.0]| 93211|\n",
      "|          [32.0,7.0]| 13231|\n",
      "+--------------------+------+\n",
      "\n"
     ]
    }
   ],
   "source": [
    "finalized_data = output.select(\"Independent Features\",\"Salary\")\n",
    "finalized_data.show()"
   ]
  },
  {
   "cell_type": "code",
   "execution_count": 22,
   "id": "63f5ecd9-7ab0-44c8-8447-7701e5b7e9a1",
   "metadata": {},
   "outputs": [],
   "source": [
    "from pyspark.ml.regression import LinearRegression\n",
    "# train test split\n",
    "train_data, test_data = finalized_data.randomSplit([0.75, 0.25])\n",
    "regressor = LinearRegression(featuresCol=\"Independent Features\", labelCol=\"Salary\")\n",
    "regressor = regressor.fit(train_data)\n"
   ]
  },
  {
   "cell_type": "code",
   "execution_count": 23,
   "id": "1554c578-cbf6-4cce-9b85-e00b1df4d0b2",
   "metadata": {},
   "outputs": [
    {
     "data": {
      "text/plain": [
       "DenseVector([7883.2593, -41100.2593])"
      ]
     },
     "execution_count": 23,
     "metadata": {},
     "output_type": "execute_result"
    }
   ],
   "source": [
    "regressor.coefficients"
   ]
  },
  {
   "cell_type": "code",
   "execution_count": 24,
   "id": "ad3df306-4f21-4d49-a560-1bd554b4adbc",
   "metadata": {},
   "outputs": [
    {
     "data": {
      "text/plain": [
       "-85883.4444444461"
      ]
     },
     "execution_count": 24,
     "metadata": {},
     "output_type": "execute_result"
    }
   ],
   "source": [
    "regressor.intercept"
   ]
  },
  {
   "cell_type": "code",
   "execution_count": 25,
   "id": "6a221843-42ae-4853-b6e9-e814fec244af",
   "metadata": {},
   "outputs": [],
   "source": [
    "pred_result = regressor.evaluate(test_data)"
   ]
  },
  {
   "cell_type": "code",
   "execution_count": 26,
   "id": "70d66cec-ef8c-4e56-adb0-08ea4c74c1ec",
   "metadata": {},
   "outputs": [
    {
     "name": "stdout",
     "output_type": "stream",
     "text": [
      "+--------------------+------+-------------------+\n",
      "|Independent Features|Salary|         prediction|\n",
      "+--------------------+------+-------------------+\n",
      "|          [24.0,6.0]| 25000|-143286.77777778186|\n",
      "|          [31.0,4.0]| 30000| -5903.444444445398|\n",
      "|          [32.0,7.0]| 13231|-121320.96296296685|\n",
      "+--------------------+------+-------------------+\n",
      "\n"
     ]
    }
   ],
   "source": [
    "pred_result.predictions.show()"
   ]
  },
  {
   "cell_type": "code",
   "execution_count": 27,
   "id": "fef83858-eead-43d8-8d74-750c4d235ff7",
   "metadata": {},
   "outputs": [
    {
     "data": {
      "text/plain": [
       "(112914.06172839804, 15904575878.330505)"
      ]
     },
     "execution_count": 27,
     "metadata": {},
     "output_type": "execute_result"
    }
   ],
   "source": [
    "pred_result.meanAbsoluteError, pred_result.meanSquaredError"
   ]
  },
  {
   "cell_type": "code",
   "execution_count": null,
   "id": "e29e69ed-034a-4d44-b9f6-89b0c6205e62",
   "metadata": {},
   "outputs": [],
   "source": []
  }
 ],
 "metadata": {
  "kernelspec": {
   "display_name": "Python 3 (ipykernel)",
   "language": "python",
   "name": "python3"
  },
  "language_info": {
   "codemirror_mode": {
    "name": "ipython",
    "version": 3
   },
   "file_extension": ".py",
   "mimetype": "text/x-python",
   "name": "python",
   "nbconvert_exporter": "python",
   "pygments_lexer": "ipython3",
   "version": "3.12.1"
  }
 },
 "nbformat": 4,
 "nbformat_minor": 5
}
